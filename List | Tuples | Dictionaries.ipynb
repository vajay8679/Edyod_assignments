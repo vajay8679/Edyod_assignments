{
 "cells": [
  {
   "cell_type": "markdown",
   "id": "ae1c398c",
   "metadata": {},
   "source": [
    "# Fun with Lists and Tuples\n"
   ]
  },
  {
   "cell_type": "markdown",
   "id": "90a9d387",
   "metadata": {},
   "source": [
    "Write a Python program to get a list, sorted in increasing order by the last\n",
    "element in each tuple from a given list of non-empty tuples"
   ]
  },
  {
   "cell_type": "code",
   "execution_count": 17,
   "id": "a7868239",
   "metadata": {},
   "outputs": [
    {
     "name": "stdout",
     "output_type": "stream",
     "text": [
      "[(2, 1), (1, 2), (2, 3), (4, 4), (2, 5)]\n"
     ]
    }
   ],
   "source": [
    "tuple1 =  [(2, 5), (1, 2), (4, 4), (2, 3), (2, 1)]\n",
    "list1 = []\n",
    "list2 = []\n",
    "for t in tuple1:\n",
    "    list1.append(t[1],)\n",
    "list1.sort()\n",
    "#print(list1)\n",
    "\n",
    "for l in list1:\n",
    "    for q in tuple1:\n",
    "        if l == int(q[1],):\n",
    "            list2.append(q)\n",
    "#list2.sort()\n",
    "print(list2)"
   ]
  },
  {
   "cell_type": "code",
   "execution_count": null,
   "id": "c0565529",
   "metadata": {},
   "outputs": [],
   "source": []
  }
 ],
 "metadata": {
  "kernelspec": {
   "display_name": "Python 3 (ipykernel)",
   "language": "python",
   "name": "python3"
  },
  "language_info": {
   "codemirror_mode": {
    "name": "ipython",
    "version": 3
   },
   "file_extension": ".py",
   "mimetype": "text/x-python",
   "name": "python",
   "nbconvert_exporter": "python",
   "pygments_lexer": "ipython3",
   "version": "3.9.5"
  }
 },
 "nbformat": 4,
 "nbformat_minor": 5
}
