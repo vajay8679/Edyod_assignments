{
 "cells": [
  {
   "cell_type": "markdown",
   "id": "4db80634",
   "metadata": {},
   "source": [
    "# Game of \"Functions\""
   ]
  },
  {
   "cell_type": "markdown",
   "id": "4e1bcb53",
   "metadata": {},
   "source": [
    " Write a Python function to sum all the numbers in a list."
   ]
  },
  {
   "cell_type": "code",
   "execution_count": 13,
   "id": "6c6211c3",
   "metadata": {},
   "outputs": [
    {
     "name": "stdout",
     "output_type": "stream",
     "text": [
      "20\n"
     ]
    }
   ],
   "source": [
    "def sum_fun(num):\n",
    "    total = 0\n",
    "    for a in num:\n",
    "        total += a\n",
    "    return total\n",
    "        \n",
    "x=sum_fun((8, 2, 3, 0, 7))\n",
    "#y=sum_fun(x)\n",
    "print(x)"
   ]
  },
  {
   "cell_type": "code",
   "execution_count": null,
   "id": "47119f3f",
   "metadata": {},
   "outputs": [],
   "source": []
  }
 ],
 "metadata": {
  "kernelspec": {
   "display_name": "Python 3 (ipykernel)",
   "language": "python",
   "name": "python3"
  },
  "language_info": {
   "codemirror_mode": {
    "name": "ipython",
    "version": 3
   },
   "file_extension": ".py",
   "mimetype": "text/x-python",
   "name": "python",
   "nbconvert_exporter": "python",
   "pygments_lexer": "ipython3",
   "version": "3.9.5"
  }
 },
 "nbformat": 4,
 "nbformat_minor": 5
}
