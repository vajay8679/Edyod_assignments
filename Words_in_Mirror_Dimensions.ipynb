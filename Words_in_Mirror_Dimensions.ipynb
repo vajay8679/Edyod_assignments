{
 "cells": [
  {
   "cell_type": "markdown",
   "id": "ab20b4f8",
   "metadata": {},
   "source": [
    "# Write a Python program that accepts a word from the user and reverse it.\n"
   ]
  },
  {
   "cell_type": "code",
   "execution_count": 3,
   "id": "28e7e36d",
   "metadata": {},
   "outputs": [
    {
     "name": "stdout",
     "output_type": "stream",
     "text": [
      "adoydE\n"
     ]
    }
   ],
   "source": [
    "word1=\"Edyoda\"\n",
    "word2=word1.split()\n",
    "rev_word1=[]\n",
    "\n",
    "for j in word2:\n",
    "    rev_word1.append(j[::-1])\n",
    "    word3 = \"\".join(rev_word1)\n",
    "print(word3)"
   ]
  },
  {
   "cell_type": "code",
   "execution_count": null,
   "id": "19ff5bb9",
   "metadata": {},
   "outputs": [],
   "source": []
  },
  {
   "cell_type": "code",
   "execution_count": null,
   "id": "a9c4ea25",
   "metadata": {},
   "outputs": [],
   "source": []
  }
 ],
 "metadata": {
  "kernelspec": {
   "display_name": "Python 3 (ipykernel)",
   "language": "python",
   "name": "python3"
  },
  "language_info": {
   "codemirror_mode": {
    "name": "ipython",
    "version": 3
   },
   "file_extension": ".py",
   "mimetype": "text/x-python",
   "name": "python",
   "nbconvert_exporter": "python",
   "pygments_lexer": "ipython3",
   "version": "3.9.5"
  }
 },
 "nbformat": 4,
 "nbformat_minor": 5
}
