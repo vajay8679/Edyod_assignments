{
 "cells": [
  {
   "cell_type": "markdown",
   "id": "30a7a547",
   "metadata": {},
   "source": [
    "# Write a Python program to get the Fibonacci series between 0 to 50\n"
   ]
  },
  {
   "cell_type": "code",
   "execution_count": 1,
   "id": "6d31e1f4",
   "metadata": {},
   "outputs": [
    {
     "name": "stdout",
     "output_type": "stream",
     "text": [
      "1 1 2 3 5 8 13 21 34 "
     ]
    }
   ],
   "source": [
    "x,y = 0,1\n",
    "while y<50:\n",
    "    print(y, end=\" \")\n",
    "    x,y=y,x+y"
   ]
  },
  {
   "cell_type": "code",
   "execution_count": null,
   "id": "7a244434",
   "metadata": {},
   "outputs": [],
   "source": []
  }
 ],
 "metadata": {
  "kernelspec": {
   "display_name": "Python 3 (ipykernel)",
   "language": "python",
   "name": "python3"
  },
  "language_info": {
   "codemirror_mode": {
    "name": "ipython",
    "version": 3
   },
   "file_extension": ".py",
   "mimetype": "text/x-python",
   "name": "python",
   "nbconvert_exporter": "python",
   "pygments_lexer": "ipython3",
   "version": "3.9.5"
  }
 },
 "nbformat": 4,
 "nbformat_minor": 5
}
