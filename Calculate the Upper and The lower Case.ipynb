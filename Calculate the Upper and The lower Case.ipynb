{
 "cells": [
  {
   "cell_type": "markdown",
   "id": "0e38ed29",
   "metadata": {},
   "source": [
    "# Calculate the Upper and The lower Case"
   ]
  },
  {
   "cell_type": "markdown",
   "id": "6643b5ce",
   "metadata": {},
   "source": [
    " Write a Python function that accepts a string and calculate the number of upper case letters and lower case letters.\n"
   ]
  },
  {
   "cell_type": "code",
   "execution_count": 37,
   "id": "f1194ad8",
   "metadata": {},
   "outputs": [
    {
     "name": "stdout",
     "output_type": "stream",
     "text": [
      "No. of Upper case characters : 3\n",
      "No. of Lower case characters : 12\n"
     ]
    }
   ],
   "source": [
    "def str_upper_lower(string):\n",
    "    uppers = 0\n",
    "    lowers = 0\n",
    "    for char in string:\n",
    "        if char.isupper():\n",
    "            uppers += 1\n",
    "     \n",
    "        elif char.islower():\n",
    "            lowers += 1\n",
    "        else:\n",
    "            pass\n",
    "    print(\"No. of Upper case charactersssssssssss :\", uppers)\n",
    "    print(\"No. of Lower case characters :\", lowers)\n",
    "\n",
    "string = 'The quick Brow Fox'\n",
    "str_upper_lower(string)"
   ]
  },
  {
   "cell_type": "code",
   "execution_count": null,
   "id": "083ff4ce",
   "metadata": {},
   "outputs": [],
   "source": []
  }
 ],
 "metadata": {
  "kernelspec": {
   "display_name": "Python 3 (ipykernel)",
   "language": "python",
   "name": "python3"
  },
  "language_info": {
   "codemirror_mode": {
    "name": "ipython",
    "version": 3
   },
   "file_extension": ".py",
   "mimetype": "text/x-python",
   "name": "python",
   "nbconvert_exporter": "python",
   "pygments_lexer": "ipython3",
   "version": "3.9.5"
  }
 },
 "nbformat": 4,
 "nbformat_minor": 5
}
