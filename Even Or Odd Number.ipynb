{
 "cells": [
  {
   "cell_type": "markdown",
   "id": "77088d05",
   "metadata": {},
   "source": [
    "# Write a Python program to count the number of even and odd numbers from a series of numbers.\n"
   ]
  },
  {
   "cell_type": "code",
   "execution_count": 1,
   "id": "77e9cb43",
   "metadata": {},
   "outputs": [
    {
     "name": "stdout",
     "output_type": "stream",
     "text": [
      "Number of even numbers : 5\n",
      "Number of odd numbers : 4\n"
     ]
    }
   ],
   "source": [
    "x=(0,1,2,3,4,5,6,7,8)\n",
    "\n",
    "even_num,odd_num = 0,0\n",
    "\n",
    "for num in x:\n",
    "    if num % 2 == 0:\n",
    "        even_num += 1\n",
    "    else:\n",
    "        odd_num += 1\n",
    "print(\"Number of even numbers :\", even_num)\n",
    "print(\"Number of odd numbers :\", odd_num)"
   ]
  },
  {
   "cell_type": "code",
   "execution_count": null,
   "id": "d6b50eb1",
   "metadata": {},
   "outputs": [],
   "source": []
  }
 ],
 "metadata": {
  "kernelspec": {
   "display_name": "Python 3 (ipykernel)",
   "language": "python",
   "name": "python3"
  },
  "language_info": {
   "codemirror_mode": {
    "name": "ipython",
    "version": 3
   },
   "file_extension": ".py",
   "mimetype": "text/x-python",
   "name": "python",
   "nbconvert_exporter": "python",
   "pygments_lexer": "ipython3",
   "version": "3.9.5"
  }
 },
 "nbformat": 4,
 "nbformat_minor": 5
}
